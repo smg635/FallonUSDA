{
 "cells": [
  {
   "cell_type": "code",
   "execution_count": 13,
   "metadata": {},
   "outputs": [
    {
     "data": {
      "text/plain": [
       "x: Int = 2\r\n"
      ]
     },
     "execution_count": 13,
     "metadata": {},
     "output_type": "execute_result"
    }
   ],
   "source": [
    "val x = 2"
   ]
  },
  {
   "cell_type": "code",
   "execution_count": 14,
   "metadata": {},
   "outputs": [
    {
     "data": {
      "text/plain": [
       "res8: Int = 2\r\n"
      ]
     },
     "execution_count": 14,
     "metadata": {},
     "output_type": "execute_result"
    }
   ],
   "source": [
    "x"
   ]
  },
  {
   "cell_type": "code",
   "execution_count": 3,
   "metadata": {},
   "outputs": [
    {
     "ename": "<console>",
     "evalue": " error: incomplete input",
     "output_type": "error",
     "traceback": [
      "<console>: error: incomplete input"
     ]
    }
   ],
   "source": [
    "import findspark"
   ]
  },
  {
   "cell_type": "code",
   "execution_count": 12,
   "metadata": {},
   "outputs": [
    {
     "ename": "<console>",
     "evalue": "24: error: not found: value resolvers\r",
     "output_type": "error",
     "traceback": [
      "<console>:24: error: not found: value resolvers\r",
      "       resolvers += Resolver.bintrayRepo(\"allenai\", \"maven\")\r",
      "       ^\r",
      "<console>:24: error: not found: value Resolver\r",
      "       resolvers += Resolver.bintrayRepo(\"allenai\", \"maven\")\r",
      "                    ^\r",
      "<console>:29: error: not found: value libraryDependencies\r",
      "       libraryDependencies += \"org.allenai\" %% \"pdffigures2\" % \"0.0.11\"\r",
      "       ^\r",
      "<console>:29: error: value %% is not a member of String\r",
      "       libraryDependencies += \"org.allenai\" %% \"pdffigures2\" % \"0.0.11\"\r",
      "                                            ^\r",
      ""
     ]
    }
   ],
   "source": [
    "resolvers += Resolver.bintrayRepo(\"allenai\", \"maven\")\n",
    "libraryDependencies += \"org.allenai\" %% \"pdffigures2\" % \"0.0.11\""
   ]
  },
  {
   "cell_type": "code",
   "execution_count": null,
   "metadata": {},
   "outputs": [],
   "source": []
  }
 ],
 "metadata": {
  "kernelspec": {
   "display_name": "spylon-kernel",
   "language": "scala",
   "name": "spylon-kernel"
  },
  "language_info": {
   "codemirror_mode": "text/x-scala",
   "file_extension": ".scala",
   "help_links": [
    {
     "text": "MetaKernel Magics",
     "url": "https://metakernel.readthedocs.io/en/latest/source/README.html"
    }
   ],
   "mimetype": "text/x-scala",
   "name": "scala",
   "pygments_lexer": "scala",
   "version": "0.4.1"
  }
 },
 "nbformat": 4,
 "nbformat_minor": 2
}
